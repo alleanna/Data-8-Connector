{
 "cells": [
  {
   "cell_type": "markdown",
   "metadata": {},
   "source": [
    "# Strings\n",
    "\n",
    "## We can do things with strings\n",
    "\n",
    "We've already seen  in Data 8 some operations that can be done with strings."
   ]
  },
  {
   "cell_type": "code",
   "execution_count": 1,
   "metadata": {},
   "outputs": [
    {
     "name": "stdout",
     "output_type": "stream",
     "text": [
      "FranzKafka\n"
     ]
    }
   ],
   "source": [
    "first_name = \"Franz\"\n",
    "last_name = \"Kafka\"\n",
    "full_name = first_name + last_name\n",
    "print(full_name)"
   ]
  },
  {
   "cell_type": "markdown",
   "metadata": {},
   "source": [
    "Remember that computers don't understand context."
   ]
  },
  {
   "cell_type": "code",
   "execution_count": 2,
   "metadata": {},
   "outputs": [
    {
     "name": "stdout",
     "output_type": "stream",
     "text": [
      "Franz Kafka\n"
     ]
    }
   ],
   "source": [
    "full_name = first_name + \" \" + last_name\n",
    "print(full_name)"
   ]
  },
  {
   "cell_type": "markdown",
   "metadata": {},
   "source": [
    "## Strings are made up of sub-strings\n",
    "\n",
    "You can think of strings as a [sequence](https://github.com/dlab-berkeley/python-intensive/blob/master/Glossary.md#sequence) of smaller strings or characters. We can access a piece of that sequence using square brackets `[]`."
   ]
  },
  {
   "cell_type": "code",
   "execution_count": 3,
   "metadata": {},
   "outputs": [
    {
     "data": {
      "text/plain": [
       "'r'"
      ]
     },
     "execution_count": 3,
     "metadata": {},
     "output_type": "execute_result"
    }
   ],
   "source": [
    "full_name[1]"
   ]
  },
  {
   "cell_type": "markdown",
   "metadata": {},
   "source": [
    "<div class=\"alert alert-danger\">\n",
    "Don't forget, Python (and many other langauges) start counting from 0.\n",
    "</div>"
   ]
  },
  {
   "cell_type": "code",
   "execution_count": 4,
   "metadata": {},
   "outputs": [
    {
     "data": {
      "text/plain": [
       "'F'"
      ]
     },
     "execution_count": 4,
     "metadata": {},
     "output_type": "execute_result"
    }
   ],
   "source": [
    "full_name[0]"
   ]
  },
  {
   "cell_type": "code",
   "execution_count": 5,
   "metadata": {},
   "outputs": [
    {
     "data": {
      "text/plain": [
       "'z'"
      ]
     },
     "execution_count": 5,
     "metadata": {},
     "output_type": "execute_result"
    }
   ],
   "source": [
    "full_name[4]"
   ]
  },
  {
   "cell_type": "markdown",
   "metadata": {},
   "source": [
    "## You can slice strings using  `[ : ]`\n",
    "\n",
    "If you want a range (or \"slice\") of a sequence, you get everything *before* the second index, i.e,. Python slicing is *exclusive*:"
   ]
  },
  {
   "cell_type": "code",
   "execution_count": 6,
   "metadata": {},
   "outputs": [
    {
     "data": {
      "text/plain": [
       "'Fran'"
      ]
     },
     "execution_count": 6,
     "metadata": {},
     "output_type": "execute_result"
    }
   ],
   "source": [
    "full_name[0:4]"
   ]
  },
  {
   "cell_type": "code",
   "execution_count": 7,
   "metadata": {},
   "outputs": [
    {
     "data": {
      "text/plain": [
       "'Franz'"
      ]
     },
     "execution_count": 7,
     "metadata": {},
     "output_type": "execute_result"
    }
   ],
   "source": [
    "full_name[0:5]"
   ]
  },
  {
   "cell_type": "markdown",
   "metadata": {},
   "source": [
    "You can see some of the logic for this when we consider implicit indices."
   ]
  },
  {
   "cell_type": "code",
   "execution_count": 8,
   "metadata": {},
   "outputs": [
    {
     "data": {
      "text/plain": [
       "'Franz'"
      ]
     },
     "execution_count": 8,
     "metadata": {},
     "output_type": "execute_result"
    }
   ],
   "source": [
    "full_name[:5]"
   ]
  },
  {
   "cell_type": "code",
   "execution_count": 9,
   "metadata": {},
   "outputs": [
    {
     "data": {
      "text/plain": [
       "' Kafka'"
      ]
     },
     "execution_count": 9,
     "metadata": {},
     "output_type": "execute_result"
    }
   ],
   "source": [
    "full_name[5:]"
   ]
  },
  {
   "cell_type": "markdown",
   "metadata": {},
   "source": [
    "If we want to find out how long a string is, we can use the `len` function:"
   ]
  },
  {
   "cell_type": "code",
   "execution_count": 10,
   "metadata": {},
   "outputs": [
    {
     "data": {
      "text/plain": [
       "11"
      ]
     },
     "execution_count": 10,
     "metadata": {},
     "output_type": "execute_result"
    }
   ],
   "source": [
    "len(full_name)"
   ]
  },
  {
   "cell_type": "markdown",
   "metadata": {},
   "source": [
    "## Strings have methods\n",
    "\n",
    "* There are other operations defined on string data. These are called **string [methods](https://github.com/dlab-berkeley/python-intensive/blob/master/Glossary.md#method)**. \n",
    "* The Jupyter Notebooks lets you do tab-completion after a dot ('.') to see what methods an [object](https://github.com/dlab-berkeley/python-intensive/blob/master/Glossary.md#object) (i.e., a defined variable) has to offer. Try it now!"
   ]
  },
  {
   "cell_type": "code",
   "execution_count": 14,
   "metadata": {},
   "outputs": [
    {
     "ename": "SyntaxError",
     "evalue": "invalid syntax (<ipython-input-14-58171b034407>, line 1)",
     "output_type": "error",
     "traceback": [
      "\u001b[0;36m  File \u001b[0;32m\"<ipython-input-14-58171b034407>\"\u001b[0;36m, line \u001b[0;32m1\u001b[0m\n\u001b[0;31m    str.\u001b[0m\n\u001b[0m        ^\u001b[0m\n\u001b[0;31mSyntaxError\u001b[0m\u001b[0;31m:\u001b[0m invalid syntax\n"
     ]
    }
   ],
   "source": [
    "str."
   ]
  },
  {
   "cell_type": "markdown",
   "metadata": {},
   "source": [
    "Let's look at the `upper` method. What does it do? Let's take a look at the documentation. Jupyter Notebooks let us do this with a question mark ('?') before *or* after an object (again, a defined variable)."
   ]
  },
  {
   "cell_type": "code",
   "execution_count": 15,
   "metadata": {
    "collapsed": true
   },
   "outputs": [],
   "source": [
    "str.upper?"
   ]
  },
  {
   "cell_type": "markdown",
   "metadata": {},
   "source": [
    "So we can use it to upper-caseify a string. "
   ]
  },
  {
   "cell_type": "code",
   "execution_count": 16,
   "metadata": {},
   "outputs": [
    {
     "data": {
      "text/plain": [
       "'FRANZ KAFKA'"
      ]
     },
     "execution_count": 16,
     "metadata": {},
     "output_type": "execute_result"
    }
   ],
   "source": [
    "full_name.upper()"
   ]
  },
  {
   "cell_type": "markdown",
   "metadata": {},
   "source": [
    "You have to use the parenthesis at the end because upper is a method of the string class.\n",
    "<p></p>\n",
    "<div class=\"alert alert-danger\">\n",
    "Don't forget, simply calling the method does not change the original variable, you must *reassign* the variable:\n",
    "</div>"
   ]
  },
  {
   "cell_type": "code",
   "execution_count": 19,
   "metadata": {},
   "outputs": [
    {
     "name": "stdout",
     "output_type": "stream",
     "text": [
      "FRANZ KAFKA\n"
     ]
    }
   ],
   "source": [
    "print(full_name)"
   ]
  },
  {
   "cell_type": "code",
   "execution_count": 20,
   "metadata": {},
   "outputs": [
    {
     "name": "stdout",
     "output_type": "stream",
     "text": [
      "FRANZ KAFKA\n"
     ]
    }
   ],
   "source": [
    "full_name = full_name.upper()\n",
    "print(full_name)"
   ]
  },
  {
   "cell_type": "markdown",
   "metadata": {},
   "source": [
    "For what it's worth, you don't need to have a variable to use the `upper()` method, you could use it on the string itself."
   ]
  },
  {
   "cell_type": "code",
   "execution_count": 21,
   "metadata": {},
   "outputs": [
    {
     "data": {
      "text/plain": [
       "'FRANZ KAFKA'"
      ]
     },
     "execution_count": 21,
     "metadata": {},
     "output_type": "execute_result"
    }
   ],
   "source": [
    "\"Franz Kafka\".upper()"
   ]
  },
  {
   "cell_type": "markdown",
   "metadata": {},
   "source": [
    "What do you think should happen when you take upper of an int?  What about a string representation of an int?"
   ]
  },
  {
   "cell_type": "code",
   "execution_count": 22,
   "metadata": {},
   "outputs": [
    {
     "ename": "SyntaxError",
     "evalue": "invalid syntax (<ipython-input-22-b26feabcdc28>, line 1)",
     "output_type": "error",
     "traceback": [
      "\u001b[0;36m  File \u001b[0;32m\"<ipython-input-22-b26feabcdc28>\"\u001b[0;36m, line \u001b[0;32m1\u001b[0m\n\u001b[0;31m    1.upper()\u001b[0m\n\u001b[0m          ^\u001b[0m\n\u001b[0;31mSyntaxError\u001b[0m\u001b[0;31m:\u001b[0m invalid syntax\n"
     ]
    }
   ],
   "source": [
    "1.upper()"
   ]
  },
  {
   "cell_type": "code",
   "execution_count": 23,
   "metadata": {},
   "outputs": [
    {
     "data": {
      "text/plain": [
       "'1'"
      ]
     },
     "execution_count": 23,
     "metadata": {},
     "output_type": "execute_result"
    }
   ],
   "source": [
    "\"1\".upper()"
   ]
  },
  {
   "cell_type": "markdown",
   "metadata": {},
   "source": [
    "## Challenge 1: Write your name\n",
    "\n",
    "1. Make two string variables, one with your first name and one with your last name.\n",
    "2. Concatenate both strings to form your full name and [assign](https://github.com/dlab-berkeley/python-intensive/blob/master/Glossary.md#assign) it to a variable.\n",
    "3. Assign a new variable that has your full name in all upper case.\n",
    "4. Slice that string to get your first name again."
   ]
  },
  {
   "cell_type": "code",
   "execution_count": 37,
   "metadata": {},
   "outputs": [
    {
     "name": "stdout",
     "output_type": "stream",
     "text": [
      "ALLEANNA CLARK\n",
      "ALLEANNA\n"
     ]
    }
   ],
   "source": [
    "firstname ='Alleanna'\n",
    "lastname = 'Clark'\n",
    "fullname = firstname+ \" \" +lastname\n",
    "fullname = fullname.upper()\n",
    "print(fullname)\n",
    "print(fullname[0:8])"
   ]
  },
  {
   "cell_type": "markdown",
   "metadata": {},
   "source": [
    "## Challenge 2: Try seeing what the following string methods do:\n",
    "\n",
    "    * `split`\n",
    "    * `join`\n",
    "    * `replace`\n",
    "    * `strip`\n",
    "    * `find`"
   ]
  },
  {
   "cell_type": "code",
   "execution_count": 17,
   "metadata": {},
   "outputs": [
    {
     "data": {
      "text/plain": [
       "['It', 'was', 'a', 'Sunday', 'morning', 'at', 'the', 'height', 'of', 'spring.']"
      ]
     },
     "execution_count": 17,
     "metadata": {},
     "output_type": "execute_result"
    }
   ],
   "source": [
    "my_string = \"It was a Sunday morning at the height of spring.\"\n",
    "words = my_string.split()\n",
    "words"
   ]
  },
  {
   "cell_type": "code",
   "execution_count": 24,
   "metadata": {},
   "outputs": [
    {
     "data": {
      "text/plain": [
       "3"
      ]
     },
     "execution_count": 24,
     "metadata": {},
     "output_type": "execute_result"
    }
   ],
   "source": [
    "my_string.find('was')"
   ]
  },
  {
   "cell_type": "code",
   "execution_count": 53,
   "metadata": {
    "collapsed": true
   },
   "outputs": [],
   "source": [
    "my_string.join?"
   ]
  },
  {
   "cell_type": "code",
   "execution_count": 50,
   "metadata": {},
   "outputs": [
    {
     "data": {
      "text/plain": [
       "'!It was a Sunday morning at the height of spring.!'"
      ]
     },
     "execution_count": 50,
     "metadata": {},
     "output_type": "execute_result"
    }
   ],
   "source": [
    "my_string.join('!!')"
   ]
  },
  {
   "cell_type": "code",
   "execution_count": 54,
   "metadata": {},
   "outputs": [
    {
     "data": {
      "text/plain": [
       "'It-was-a-Sunday-morning-at-the-height-of-spring.'"
      ]
     },
     "execution_count": 54,
     "metadata": {},
     "output_type": "execute_result"
    }
   ],
   "source": [
    "'-'.join(words)"
   ]
  },
  {
   "cell_type": "code",
   "execution_count": 55,
   "metadata": {},
   "outputs": [
    {
     "data": {
      "text/plain": [
       "['I', ' was a Sunday morning a', ' ', 'he heigh', ' of spring.']"
      ]
     },
     "execution_count": 55,
     "metadata": {},
     "output_type": "execute_result"
    }
   ],
   "source": [
    "my_string.split('t')"
   ]
  },
  {
   "cell_type": "code",
   "execution_count": 57,
   "metadata": {},
   "outputs": [
    {
     "data": {
      "text/plain": [
       "'It w4s a Sunday morning at the height of spring.'"
      ]
     },
     "execution_count": 57,
     "metadata": {},
     "output_type": "execute_result"
    }
   ],
   "source": [
    "my_string.replace(\"a\", '4', 1)"
   ]
  },
  {
   "cell_type": "code",
   "execution_count": 58,
   "metadata": {},
   "outputs": [
    {
     "data": {
      "text/plain": [
       "'It was a Sunday morning at the height of spring'"
      ]
     },
     "execution_count": 58,
     "metadata": {},
     "output_type": "execute_result"
    }
   ],
   "source": [
    "my_string.strip(\".\")"
   ]
  },
  {
   "cell_type": "code",
   "execution_count": 59,
   "metadata": {},
   "outputs": [
    {
     "data": {
      "text/plain": [
       "'It was a Sunday morning at the height of spring.'"
      ]
     },
     "execution_count": 59,
     "metadata": {},
     "output_type": "execute_result"
    }
   ],
   "source": [
    "my_string.strip()"
   ]
  },
  {
   "cell_type": "markdown",
   "metadata": {},
   "source": [
    "## Challenge 3: Working with strings"
   ]
  },
  {
   "cell_type": "markdown",
   "metadata": {},
   "source": [
    "Below is a string of Edgar Allen Poe's \"A Dream Within a Dream\":"
   ]
  },
  {
   "cell_type": "code",
   "execution_count": 2,
   "metadata": {
    "collapsed": true
   },
   "outputs": [],
   "source": [
    "poem = '''Take this kiss upon the brow!\n",
    "And, in parting from you now,\n",
    "Thus much let me avow —\n",
    "You are not wrong, who deem\n",
    "That my days have been a dream;\n",
    "Yet if hope has flown away\n",
    "In a night, or in a day,\n",
    "In a vision, or in none,\n",
    "Is it therefore the less gone?  \n",
    "All that we see or seem\n",
    "Is but a dream within a dream.\n",
    "\n",
    "I stand amid the roar\n",
    "Of a surf-tormented shore,\n",
    "And I hold within my hand\n",
    "Grains of the golden sand —\n",
    "How few! yet how they creep\n",
    "Through my fingers to the deep,\n",
    "While I weep — while I weep!\n",
    "O God! Can I not grasp \n",
    "Them with a tighter clasp?\n",
    "O God! can I not save\n",
    "One from the pitiless wave?\n",
    "Is all that we see or seem\n",
    "But a dream within a dream?'''"
   ]
  },
  {
   "cell_type": "code",
   "execution_count": 3,
   "metadata": {
    "scrolled": true
   },
   "outputs": [
    {
     "data": {
      "text/plain": [
       "'Take this kiss upon the brow!\\nAnd, in parting from you now,\\nThus much let me avow —\\nYou are not wrong, who deem\\nThat my days have been a dream;\\nYet if hope has flown away\\nIn a night, or in a day,\\nIn a vision, or in none,\\nIs it therefore the less gone?  \\nAll that we see or seem\\nIs but a dream within a dream.\\n\\nI stand amid the roar\\nOf a surf-tormented shore,\\nAnd I hold within my hand\\nGrains of the golden sand —\\nHow few! yet how they creep\\nThrough my fingers to the deep,\\nWhile I weep — while I weep!\\nO God! Can I not grasp \\nThem with a tighter clasp?\\nO God! can I not save\\nOne from the pitiless wave?\\nIs all that we see or seem\\nBut a dream within a dream'"
      ]
     },
     "execution_count": 3,
     "metadata": {},
     "output_type": "execute_result"
    }
   ],
   "source": [
    "poem.strip(\"?\")"
   ]
  },
  {
   "cell_type": "code",
   "execution_count": 4,
   "metadata": {},
   "outputs": [
    {
     "data": {
      "text/plain": [
       "'Take this kiss upon the brow!\\nAnd, in parting from you now,\\nThus much let me avow —\\nYou are not wrong, who deem\\nThat my days have been a dream;\\nYet if hope has flown away\\nIn a night, or in a day,\\nIn a vision, or in none,\\nIs it therefore the less gone  \\nAll that we see or seem\\nIs but a dream within a dream.\\n\\nI stand amid the roar\\nOf a surf-tormented shore,\\nAnd I hold within my hand\\nGrains of the golden sand —\\nHow few! yet how they creep\\nThrough my fingers to the deep,\\nWhile I weep — while I weep!\\nO God! Can I not grasp \\nThem with a tighter clasp\\nO God! can I not save\\nOne from the pitiless wave\\nIs all that we see or seem\\nBut a dream within a dream'"
      ]
     },
     "execution_count": 4,
     "metadata": {},
     "output_type": "execute_result"
    }
   ],
   "source": [
    "poem.replace(\"?\",\"\")"
   ]
  },
  {
   "cell_type": "markdown",
   "metadata": {},
   "source": [
    "What is the difference between `poem.strip(\"?\")` and `poem.replace(\"?\", \"\")` ?"
   ]
  },
  {
   "cell_type": "markdown",
   "metadata": {},
   "source": [
    "The difference is that poem.strip(\"?\") just removes the last question mark because it is strips the string of the last character, whereas poem.replace(\"?\",\"\") replaces every question question mark with the section input which, in this case, is nothing."
   ]
  },
  {
   "cell_type": "markdown",
   "metadata": {},
   "source": [
    "At what index does the word \"*and*\" first appear? Where does it last appear?"
   ]
  },
  {
   "cell_type": "code",
   "execution_count": 34,
   "metadata": {},
   "outputs": [
    {
     "data": {
      "text/plain": [
       "30"
      ]
     },
     "execution_count": 34,
     "metadata": {},
     "output_type": "execute_result"
    }
   ],
   "source": [
    "poem.find('And')\n"
   ]
  },
  {
   "cell_type": "code",
   "execution_count": 38,
   "metadata": {},
   "outputs": [
    {
     "data": {
      "text/plain": [
       "359"
      ]
     },
     "execution_count": 38,
     "metadata": {},
     "output_type": "execute_result"
    }
   ],
   "source": [
    "poem.rfind('And')"
   ]
  },
  {
   "cell_type": "markdown",
   "metadata": {},
   "source": [
    "How can you answer the above accounting for upper- and lowercase?"
   ]
  },
  {
   "cell_type": "markdown",
   "metadata": {
    "collapsed": true
   },
   "source": [
    "You can make all of the letters uppercase or lowercase using the .upper or .lower function, then apply the .find function."
   ]
  },
  {
   "cell_type": "markdown",
   "metadata": {},
   "source": [
    "## Challenge 4: Counting Text"
   ]
  },
  {
   "cell_type": "markdown",
   "metadata": {},
   "source": [
    "Below is a string of Robert Frost's \"The Road Not Taken\":"
   ]
  },
  {
   "cell_type": "code",
   "execution_count": null,
   "metadata": {
    "collapsed": true
   },
   "outputs": [],
   "source": [
    "poem = '''Two roads diverged in a yellow wood,\n",
    "And sorry I could not travel both\n",
    "And be one traveler, long I stood\n",
    "And looked down one as far as I could\n",
    "To where it bent in the undergrowth;\n",
    "\n",
    "Then took the other, as just as fair,\n",
    "And having perhaps the better claim,\n",
    "Because it was grassy and wanted wear;\n",
    "Though as for that the passing there\n",
    "Had worn them really about the same,\n",
    "\n",
    "And both that morning equally lay\n",
    "In leaves no step had trodden black.\n",
    "Oh, I kept the first for another day!\n",
    "Yet knowing how way leads on to way,\n",
    "I doubted if I should ever come back.\n",
    "\n",
    "I shall be telling this with a sigh\n",
    "Somewhere ages and ages hence:\n",
    "Two roads diverged in a wood, and I—\n",
    "I took the one less traveled by,\n",
    "And that has made all the difference.'''"
   ]
  },
  {
   "cell_type": "markdown",
   "metadata": {},
   "source": [
    "Using the `len` function and the string methods, answer the following questions:\n",
    "\n",
    "How many characters (letters) are in the poem?"
   ]
  },
  {
   "cell_type": "code",
   "execution_count": 7,
   "metadata": {},
   "outputs": [
    {
     "data": {
      "text/plain": [
       "657"
      ]
     },
     "execution_count": 7,
     "metadata": {},
     "output_type": "execute_result"
    }
   ],
   "source": [
    "len(poem)"
   ]
  },
  {
   "cell_type": "markdown",
   "metadata": {},
   "source": [
    "How many words?"
   ]
  },
  {
   "cell_type": "code",
   "execution_count": 44,
   "metadata": {},
   "outputs": [
    {
     "data": {
      "text/plain": [
       "['Take',\n",
       " 'this',\n",
       " 'kiss',\n",
       " 'upon',\n",
       " 'the',\n",
       " 'brow!',\n",
       " 'And,',\n",
       " 'in',\n",
       " 'parting',\n",
       " 'from',\n",
       " 'you',\n",
       " 'now,',\n",
       " 'Thus',\n",
       " 'much',\n",
       " 'let',\n",
       " 'me',\n",
       " 'avow',\n",
       " '—',\n",
       " 'You',\n",
       " 'are',\n",
       " 'not',\n",
       " 'wrong,',\n",
       " 'who',\n",
       " 'deem',\n",
       " 'That',\n",
       " 'my',\n",
       " 'days',\n",
       " 'have',\n",
       " 'been',\n",
       " 'a',\n",
       " 'dream;',\n",
       " 'Yet',\n",
       " 'if',\n",
       " 'hope',\n",
       " 'has',\n",
       " 'flown',\n",
       " 'away',\n",
       " 'In',\n",
       " 'a',\n",
       " 'night,',\n",
       " 'or',\n",
       " 'in',\n",
       " 'a',\n",
       " 'day,',\n",
       " 'In',\n",
       " 'a',\n",
       " 'vision,',\n",
       " 'or',\n",
       " 'in',\n",
       " 'none,',\n",
       " 'Is',\n",
       " 'it',\n",
       " 'therefore',\n",
       " 'the',\n",
       " 'less',\n",
       " 'gone?',\n",
       " 'All',\n",
       " 'that',\n",
       " 'we',\n",
       " 'see',\n",
       " 'or',\n",
       " 'seem',\n",
       " 'Is',\n",
       " 'but',\n",
       " 'a',\n",
       " 'dream',\n",
       " 'within',\n",
       " 'a',\n",
       " 'dream.',\n",
       " 'I',\n",
       " 'stand',\n",
       " 'amid',\n",
       " 'the',\n",
       " 'roar',\n",
       " 'Of',\n",
       " 'a',\n",
       " 'surf-tormented',\n",
       " 'shore,',\n",
       " 'And',\n",
       " 'I',\n",
       " 'hold',\n",
       " 'within',\n",
       " 'my',\n",
       " 'hand',\n",
       " 'Grains',\n",
       " 'of',\n",
       " 'the',\n",
       " 'golden',\n",
       " 'sand',\n",
       " '—',\n",
       " 'How',\n",
       " 'few!',\n",
       " 'yet',\n",
       " 'how',\n",
       " 'they',\n",
       " 'creep',\n",
       " 'Through',\n",
       " 'my',\n",
       " 'fingers',\n",
       " 'to',\n",
       " 'the',\n",
       " 'deep,',\n",
       " 'While',\n",
       " 'I',\n",
       " 'weep',\n",
       " '—',\n",
       " 'while',\n",
       " 'I',\n",
       " 'weep!',\n",
       " 'O',\n",
       " 'God!',\n",
       " 'Can',\n",
       " 'I',\n",
       " 'not',\n",
       " 'grasp',\n",
       " 'Them',\n",
       " 'with',\n",
       " 'a',\n",
       " 'tighter',\n",
       " 'clasp?',\n",
       " 'O',\n",
       " 'God!',\n",
       " 'can',\n",
       " 'I',\n",
       " 'not',\n",
       " 'save',\n",
       " 'One',\n",
       " 'from',\n",
       " 'the',\n",
       " 'pitiless',\n",
       " 'wave?',\n",
       " 'Is',\n",
       " 'all',\n",
       " 'that',\n",
       " 'we',\n",
       " 'see',\n",
       " 'or',\n",
       " 'seem',\n",
       " 'But',\n",
       " 'a',\n",
       " 'dream',\n",
       " 'within',\n",
       " 'a',\n",
       " 'dream?']"
      ]
     },
     "execution_count": 44,
     "metadata": {},
     "output_type": "execute_result"
    }
   ],
   "source": [
    "split = poem.split()\n",
    "split"
   ]
  },
  {
   "cell_type": "code",
   "execution_count": 46,
   "metadata": {},
   "outputs": [
    {
     "data": {
      "text/plain": [
       "144"
      ]
     },
     "execution_count": 46,
     "metadata": {},
     "output_type": "execute_result"
    }
   ],
   "source": [
    "words = len(split)\n",
    "words"
   ]
  },
  {
   "cell_type": "markdown",
   "metadata": {},
   "source": [
    "How many lines? (HINT: A line break is represented as  `\\n`  )"
   ]
  },
  {
   "cell_type": "code",
   "execution_count": 56,
   "metadata": {},
   "outputs": [
    {
     "data": {
      "text/plain": [
       "20"
      ]
     },
     "execution_count": 56,
     "metadata": {},
     "output_type": "execute_result"
    }
   ],
   "source": [
    "20"
   ]
  },
  {
   "cell_type": "markdown",
   "metadata": {},
   "source": [
    "How many stanzas?"
   ]
  },
  {
   "cell_type": "code",
   "execution_count": 57,
   "metadata": {},
   "outputs": [
    {
     "data": {
      "text/plain": [
       "4"
      ]
     },
     "execution_count": 57,
     "metadata": {},
     "output_type": "execute_result"
    }
   ],
   "source": [
    "4"
   ]
  },
  {
   "cell_type": "markdown",
   "metadata": {},
   "source": [
    "How many unique words? (HINT: look up what a `set` is)"
   ]
  },
  {
   "cell_type": "code",
   "execution_count": 47,
   "metadata": {},
   "outputs": [
    {
     "data": {
      "text/plain": [
       "41"
      ]
     },
     "execution_count": 47,
     "metadata": {},
     "output_type": "execute_result"
    }
   ],
   "source": [
    "len(set(poem))"
   ]
  },
  {
   "cell_type": "markdown",
   "metadata": {},
   "source": [
    "Remove commas and check the number of unique words again. Why is it different?"
   ]
  },
  {
   "cell_type": "code",
   "execution_count": 54,
   "metadata": {},
   "outputs": [
    {
     "data": {
      "text/plain": [
       "'Take this kiss upon the brow!\\nAnd in parting from you now\\nThus much let me avow —\\nYou are not wrong who deem\\nThat my days have been a dream;\\nYet if hope has flown away\\nIn a night or in a day\\nIn a vision or in none\\nIs it therefore the less gone?  \\nAll that we see or seem\\nIs but a dream within a dream.\\n\\nI stand amid the roar\\nOf a surf-tormented shore\\nAnd I hold within my hand\\nGrains of the golden sand —\\nHow few! yet how they creep\\nThrough my fingers to the deep\\nWhile I weep — while I weep!\\nO God! Can I not grasp \\nThem with a tighter clasp?\\nO God! can I not save\\nOne from the pitiless wave?\\nIs all that we see or seem\\nBut a dream within a dream?'"
      ]
     },
     "execution_count": 54,
     "metadata": {},
     "output_type": "execute_result"
    }
   ],
   "source": [
    "new_poem=poem.replace(\",\" , \"\")\n",
    "new_poem"
   ]
  },
  {
   "cell_type": "code",
   "execution_count": 55,
   "metadata": {},
   "outputs": [
    {
     "data": {
      "text/plain": [
       "40"
      ]
     },
     "execution_count": 55,
     "metadata": {},
     "output_type": "execute_result"
    }
   ],
   "source": [
    "len(set(new_poem))"
   ]
  },
  {
   "cell_type": "markdown",
   "metadata": {},
   "source": [
    "It would be different because commas become part of the word since there is no space in between the word they come after and the next word. "
   ]
  }
 ],
 "metadata": {
  "anaconda-cloud": {},
  "kernelspec": {
   "display_name": "Python 3",
   "language": "python",
   "name": "python3"
  },
  "language_info": {
   "codemirror_mode": {
    "name": "ipython",
    "version": 3
   },
   "file_extension": ".py",
   "mimetype": "text/x-python",
   "name": "python",
   "nbconvert_exporter": "python",
   "pygments_lexer": "ipython3",
   "version": "3.6.1"
  }
 },
 "nbformat": 4,
 "nbformat_minor": 1
}
